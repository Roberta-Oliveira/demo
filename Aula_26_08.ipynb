{
  "nbformat": 4,
  "nbformat_minor": 0,
  "metadata": {
    "colab": {
      "name": "Aula-26-08.ipynb",
      "provenance": [],
      "authorship_tag": "ABX9TyPyCKpiWE/eU8vrFjcJwMxM",
      "include_colab_link": true
    },
    "kernelspec": {
      "name": "python3",
      "display_name": "Python 3"
    }
  },
  "cells": [
    {
      "cell_type": "markdown",
      "metadata": {
        "id": "view-in-github",
        "colab_type": "text"
      },
      "source": [
        "<a href=\"https://colab.research.google.com/github/Roberta-Oliveira/demo/blob/master/Aula_26_08.ipynb\" target=\"_parent\"><img src=\"https://colab.research.google.com/assets/colab-badge.svg\" alt=\"Open In Colab\"/></a>"
      ]
    },
    {
      "cell_type": "code",
      "metadata": {
        "id": "yaMf0UFU9OMc",
        "colab_type": "code",
        "colab": {
          "base_uri": "https://localhost:8080/",
          "height": 34
        },
        "outputId": "c5df113a-b925-431d-fb20-30b72dc4bb6c"
      },
      "source": [
        "x=3**3\n",
        "print(x)"
      ],
      "execution_count": 1,
      "outputs": [
        {
          "output_type": "stream",
          "text": [
            "27\n"
          ],
          "name": "stdout"
        }
      ]
    },
    {
      "cell_type": "code",
      "metadata": {
        "id": "kzUUNbgaAFj5",
        "colab_type": "code",
        "colab": {
          "base_uri": "https://localhost:8080/",
          "height": 51
        },
        "outputId": "7d0c8bbb-08d5-4539-f5d8-1e5ec87499bf"
      },
      "source": [
        "x = 30 // 12\n",
        "print(x)\n",
        "y = 30 % 12\n",
        "print(y)"
      ],
      "execution_count": 3,
      "outputs": [
        {
          "output_type": "stream",
          "text": [
            "2\n",
            "6\n"
          ],
          "name": "stdout"
        }
      ]
    },
    {
      "cell_type": "code",
      "metadata": {
        "id": "bZTpdm-aA5VL",
        "colab_type": "code",
        "colab": {
          "base_uri": "https://localhost:8080/",
          "height": 68
        },
        "outputId": "de05de0e-5a8c-4072-8b99-dbe9a6ac39ad"
      },
      "source": [
        "Var1 = 'Texto 1'\n",
        "Var2 = 50\n",
        "Var3 = 100/1\n",
        "#Var4 = True\n",
        "print( type(Var1) )\n",
        "print( type(Var2) )\n",
        "print( type(Var3) )\n",
        "#print( type(Var4) )\n"
      ],
      "execution_count": 9,
      "outputs": [
        {
          "output_type": "stream",
          "text": [
            "<class 'str'>\n",
            "<class 'int'>\n",
            "<class 'float'>\n"
          ],
          "name": "stdout"
        }
      ]
    },
    {
      "cell_type": "code",
      "metadata": {
        "id": "2Mt4K5jVB1Xb",
        "colab_type": "code",
        "colab": {
          "base_uri": "https://localhost:8080/",
          "height": 102
        },
        "outputId": "9ebf2e35-0112-40a8-9e3d-a69201f17c26"
      },
      "source": [
        "MeuTexto1 = 'Palavras A'\n",
        "MeuTexto2 = \"Palavras B\"\n",
        "MeuTexto3 = 'Pal A\\nPal B'\n",
        "print(MeuTexto1 + MeuTexto2)\n",
        "print(MeuTexto1, MeuTexto2)\n",
        "print( len(MeuTexto1) )\n",
        "print(MeuTexto3)"
      ],
      "execution_count": 13,
      "outputs": [
        {
          "output_type": "stream",
          "text": [
            "Palavras APalavras B\n",
            "Palavras A Palavras B\n",
            "10\n",
            "Pal A\n",
            "Pal B\n"
          ],
          "name": "stdout"
        }
      ]
    },
    {
      "cell_type": "code",
      "metadata": {
        "id": "9Tz1yCwzO4pO",
        "colab_type": "code",
        "colab": {
          "base_uri": "https://localhost:8080/",
          "height": 68
        },
        "outputId": "bde88398-8e40-4ee7-9c1f-cf1e263b3840"
      },
      "source": [
        "Frase = 'ksjwueiropfjnxv284%dh'\n",
        "print(Frase[2:7])\n",
        "print(Frase[2::2])\n",
        "print(Frase[2:8:3])"
      ],
      "execution_count": 20,
      "outputs": [
        {
          "output_type": "stream",
          "text": [
            "jwuei\n",
            "juiofnv8%h\n",
            "je\n"
          ],
          "name": "stdout"
        }
      ]
    },
    {
      "cell_type": "code",
      "metadata": {
        "id": "uLh0Ar8OQpcR",
        "colab_type": "code",
        "colab": {
          "base_uri": "https://localhost:8080/",
          "height": 68
        },
        "outputId": "1d5060f0-9a15-45fd-d156-91e30c787954"
      },
      "source": [
        "Txt1 = 'IESB'\n",
        "Txt2 = 'O' + Txt1[1:]\n",
        "print(Txt2)\n",
        "Txt1 = Txt1 + Txt1\n",
        "print(Txt1)\n",
        "Txt3 = 3*'Abc'\n",
        "print(Txt3)"
      ],
      "execution_count": 24,
      "outputs": [
        {
          "output_type": "stream",
          "text": [
            "OESB\n",
            "IESBIESB\n",
            "AbcAbcAbc\n"
          ],
          "name": "stdout"
        }
      ]
    },
    {
      "cell_type": "code",
      "metadata": {
        "id": "xJB4hqPRT3ah",
        "colab_type": "code",
        "colab": {
          "base_uri": "https://localhost:8080/",
          "height": 88
        },
        "outputId": "d3195f5b-a71a-482c-bdb5-cc7526b31eb6"
      },
      "source": [
        "Frase = 'adjetivo Que se conseguiu concatenar; que está unido; encadeado. Que se liga de modo lógico; que possui uma relação sequencial'\n",
        "print(Frase.split())\n",
        "print(len(Frase.split()))\n",
        "print(Frase.split('n'))"
      ],
      "execution_count": 25,
      "outputs": [
        {
          "output_type": "stream",
          "text": [
            "['adjetivo', 'Que', 'se', 'conseguiu', 'concatenar;', 'que', 'está', 'unido;', 'encadeado.', 'Que', 'se', 'liga', 'de', 'modo', 'lógico;', 'que', 'possui', 'uma', 'relação', 'sequencial']\n",
            "20\n",
            "['adjetivo Que se co', 'seguiu co', 'cate', 'ar; que está u', 'ido; e', 'cadeado. Que se liga de modo lógico; que possui uma relação seque', 'cial']\n"
          ],
          "name": "stdout"
        }
      ]
    },
    {
      "cell_type": "code",
      "metadata": {
        "id": "O8n15vSWWzSx",
        "colab_type": "code",
        "colab": {
          "base_uri": "https://localhost:8080/",
          "height": 51
        },
        "outputId": "9479f5ab-6029-45eb-b5b6-951bcff2acdd"
      },
      "source": [
        "Contando = 'ABCDXDEFG DHDRLXOCMJX234SX X'\n",
        "print(Contando.split('X'))\n",
        "print( len(Contando.split('X'))-1)"
      ],
      "execution_count": 30,
      "outputs": [
        {
          "output_type": "stream",
          "text": [
            "['ABCD', 'DEFG DHDRL', 'OCMJ', '234S', ' ', '']\n",
            "5\n"
          ],
          "name": "stdout"
        }
      ]
    },
    {
      "cell_type": "code",
      "metadata": {
        "id": "910zoOFTXT2p",
        "colab_type": "code",
        "colab": {
          "base_uri": "https://localhost:8080/",
          "height": 34
        },
        "outputId": "38bed50d-2b5a-49c8-c702-aa4e2b88e311"
      },
      "source": [
        "MeusCaros = 'Meus carros foram: {0}, {0}, {0}, {1} e {4}'\n",
        "Carro0 = 'Ka'\n",
        "Carro1 = 'Gol'\n",
        "Carro2 = 'Sentra'\n",
        "Carro3 = 'Bravo'\n",
        "Carro4 = 'Virtus'\n",
        "print( MeusCaros.format(Carro0, Carro1, Carro2, Carro3, Carro4))"
      ],
      "execution_count": 33,
      "outputs": [
        {
          "output_type": "stream",
          "text": [
            "Meus carros foram: Ka, Ka, Ka, Gol e Virtus\n"
          ],
          "name": "stdout"
        }
      ]
    },
    {
      "cell_type": "code",
      "metadata": {
        "id": "FbFvKvj2auLR",
        "colab_type": "code",
        "colab": {
          "base_uri": "https://localhost:8080/",
          "height": 119
        },
        "outputId": "38b62463-bf5d-4b2c-d8a0-44a9a7739f6a"
      },
      "source": [
        "#Listas\n",
        "\n",
        "Lista1 = [4, 'IESB', 78.5, False]\n",
        "print(Lista1)\n",
        "print( type(Lista1[0]))\n",
        "print( Lista1[1][2])\n",
        "Lista1[0] = Lista1[0]*5\n",
        "print(Lista1)\n",
        "Lista1[1] = 2*Lista1[1]\n",
        "print(Lista1)\n",
        "Lista1[3] = 99.99\n",
        "print(Lista1)"
      ],
      "execution_count": 45,
      "outputs": [
        {
          "output_type": "stream",
          "text": [
            "[4, 'IESB', 78.5, False]\n",
            "<class 'int'>\n",
            "S\n",
            "[20, 'IESB', 78.5, False]\n",
            "[20, 'IESBIESB', 78.5, False]\n",
            "[20, 'IESBIESB', 78.5, 99.99]\n"
          ],
          "name": "stdout"
        }
      ]
    },
    {
      "cell_type": "code",
      "metadata": {
        "id": "5uQ9tEfXc0qr",
        "colab_type": "code",
        "colab": {
          "base_uri": "https://localhost:8080/",
          "height": 68
        },
        "outputId": "84f14559-3dbf-4140-dcbd-ce79ef23b86a"
      },
      "source": [
        "Lista2 = [4, 'IESB', 78.5, False]\n",
        "Lista2 = 2*Lista2\n",
        "print(Lista2)\n",
        "Lista3 = [1, 2, 3, 4]\n",
        "Lista3 = 2*Lista3\n",
        "print(Lista3)\n",
        "\n",
        "lista2 = [4, 5, 6 ,7]\n",
        "lista2 = 2*lista2\n",
        "print(lista2)"
      ],
      "execution_count": 51,
      "outputs": [
        {
          "output_type": "stream",
          "text": [
            "[4, 'IESB', 78.5, False, 4, 'IESB', 78.5, False]\n",
            "[1, 2, 3, 4, 1, 2, 3, 4]\n",
            "[4, 5, 6, 7, 4, 5, 6, 7]\n"
          ],
          "name": "stdout"
        }
      ]
    },
    {
      "cell_type": "code",
      "metadata": {
        "id": "1QTZLn1pfBNJ",
        "colab_type": "code",
        "colab": {}
      },
      "source": [
        ""
      ],
      "execution_count": null,
      "outputs": []
    }
  ]
}